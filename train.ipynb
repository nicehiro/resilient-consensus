{
 "cells": [
  {
   "cell_type": "markdown",
   "metadata": {},
   "source": [
    "# Reinforcement Learning based Multi-agent Resilient Systems"
   ]
  },
  {
   "cell_type": "markdown",
   "metadata": {},
   "source": [
    "## RL Based Fault Tolerance"
   ]
  },
  {
   "cell_type": "markdown",
   "metadata": {},
   "source": [
    "### DQN"
   ]
  },
  {
   "cell_type": "code",
   "execution_count": 1,
   "metadata": {},
   "outputs": [
    {
     "name": "stderr",
     "output_type": "stream",
     "text": [
      "/home/hiro/.local/lib/python3.7/site-packages/torch/nn/modules/container.py:100: UserWarning: Implicit dimension choice for softmax has been deprecated. Change the call to include dim=X as an argument.\n",
      "  input = module(input)\n"
     ]
    },
    {
     "name": "stdout",
     "output_type": "stream",
     "text": [
      "Node: 0\tValue: 0.18456401320033888\n",
      "Adj: 0\tWeight: 0.9999979392431088\n",
      "\n",
      "Node: 1\tValue: 0.14647474343402345\n",
      "Adj: 1\tWeight: 0.9999983208647824\n",
      "\n",
      "Node: 2\tValue: 0.2605161574184026\n",
      "Adj: 2\tWeight: 0.9999948481130125\n",
      "\n",
      "Node: 3\tValue: 0.2179213739054102\n",
      "Adj: 1\tWeight: 3.8795542610231044e-156\n",
      "Adj: 3\tWeight: 3.9669648697413435e-157\n",
      "Adj: 5\tWeight: 1.4019478427859873e-157\n",
      "Adj: 9\tWeight: 1.0001638917532207\n",
      "\n",
      "Node: 4\tValue: 0.21792137277940932\n",
      "Adj: 2\tWeight: 4.054296852889845e-149\n",
      "Adj: 4\tWeight: 4.394221781117605e-158\n",
      "Adj: 6\tWeight: 1.0001613625477566\n",
      "Adj: 8\tWeight: 5.278627405302759e-19\n",
      "\n",
      "Node: 5\tValue: 0.21792137224328348\n",
      "Adj: 2\tWeight: 1.8163761743298335e-153\n",
      "Adj: 5\tWeight: 0.12343301783090031\n",
      "Adj: 7\tWeight: 0.8765204532809346\n",
      "\n",
      "Node: 6\tValue: 0.21792137324931823\n",
      "Adj: 0\tWeight: 6.4441579019138965e-139\n",
      "Adj: 3\tWeight: 0.41734594300236627\n",
      "Adj: 4\tWeight: 0.2797404282568716\n",
      "Adj: 6\tWeight: 0.30304242144778465\n",
      "\n",
      "Node: 7\tValue: 0.21792137277947718\n",
      "Adj: 0\tWeight: 2.7886000091278384e-134\n",
      "Adj: 1\tWeight: 1.1946123799113361e-157\n",
      "Adj: 4\tWeight: 1.000144405781184\n",
      "Adj: 6\tWeight: 7.195854646622819e-155\n",
      "Adj: 7\tWeight: 1.0983677133904005e-06\n",
      "\n",
      "Node: 8\tValue: 0.21791886590692344\n",
      "Adj: 1\tWeight: 2.120336264497886e-84\n",
      "Adj: 5\tWeight: 1.6089107633615684e-156\n",
      "Adj: 7\tWeight: 6.349893407256968e-65\n",
      "Adj: 8\tWeight: 1.000118386517651\n",
      "\n",
      "Node: 9\tValue: 0.2179213743753179\n",
      "Adj: 2\tWeight: 1.1033857287486947e-08\n",
      "Adj: 3\tWeight: 2.5417820037959423e-146\n",
      "Adj: 7\tWeight: 3.813505179833671e-08\n",
      "Adj: 9\tWeight: 1.0001459076505606\n",
      "\n",
      "\n"
     ]
    }
   ],
   "source": [
    "%load_ext autoreload\n",
    "%autoreload 2\n",
    "from dqn.train import train\n",
    "\n",
    "# dqn method\n",
    "train()"
   ]
  },
  {
   "cell_type": "markdown",
   "metadata": {},
   "source": [
    "### PG"
   ]
  },
  {
   "cell_type": "code",
   "execution_count": null,
   "metadata": {},
   "outputs": [],
   "source": [
    "%load_ext autoreload\n",
    "%autoreload 2\n",
    "from pg.train import train\n",
    "\n",
    "\n",
    "# pg method\n",
    "train()"
   ]
  },
  {
   "cell_type": "code",
   "execution_count": null,
   "metadata": {},
   "outputs": [],
   "source": [
    "%load_ext autoreload\n",
    "%autoreload 2\n",
    "from pg.train import train\n",
    "from utils import batch_train\n",
    "\n",
    "\n",
    "batch_train(train)"
   ]
  },
  {
   "cell_type": "markdown",
   "metadata": {},
   "source": [
    "# DDPG"
   ]
  },
  {
   "cell_type": "code",
   "execution_count": null,
   "metadata": {},
   "outputs": [
    {
     "name": "stdout",
     "output_type": "stream",
     "text": [
      "Node: 0\tValue: 0.8641268981672012\n",
      "Adj: 0\tWeight: 1\n",
      "\n",
      "Node: 1\tValue: 0.2726240721437878\n",
      "Adj: 1\tWeight: 1\n",
      "\n",
      "Node: 2\tValue: 0.40946380062409027\n",
      "Adj: 2\tWeight: 1\n",
      "\n",
      "Node: 3\tValue: 0.2796456493305165\n",
      "Adj: 1\tWeight: 0.25\n",
      "Adj: 3\tWeight: 0.25\n",
      "Adj: 5\tWeight: 0.25\n",
      "Adj: 9\tWeight: 0.25\n",
      "\n",
      "Node: 4\tValue: 0.042264630628302324\n",
      "Adj: 2\tWeight: 0.25\n",
      "Adj: 4\tWeight: 0.25\n",
      "Adj: 6\tWeight: 0.25\n",
      "Adj: 8\tWeight: 0.25\n",
      "\n",
      "Node: 5\tValue: 0.7525436337420223\n",
      "Adj: 2\tWeight: 0.33\n",
      "Adj: 5\tWeight: 0.33\n",
      "Adj: 7\tWeight: 0.33\n",
      "\n",
      "Node: 6\tValue: 0.699646723844215\n",
      "Adj: 0\tWeight: 0.25\n",
      "Adj: 3\tWeight: 0.25\n",
      "Adj: 4\tWeight: 0.25\n",
      "Adj: 6\tWeight: 0.25\n",
      "\n",
      "Node: 7\tValue: 0.7565782536212149\n",
      "Adj: 0\tWeight: 0.2\n",
      "Adj: 1\tWeight: 0.2\n",
      "Adj: 4\tWeight: 0.2\n",
      "Adj: 6\tWeight: 0.2\n",
      "Adj: 7\tWeight: 0.2\n",
      "\n",
      "Node: 8\tValue: 0.5555652792283033\n",
      "Adj: 1\tWeight: 0.25\n",
      "Adj: 5\tWeight: 0.25\n",
      "Adj: 7\tWeight: 0.25\n",
      "Adj: 8\tWeight: 0.25\n",
      "\n",
      "Node: 9\tValue: 0.9656361957089139\n",
      "Adj: 2\tWeight: 0.25\n",
      "Adj: 3\tWeight: 0.25\n",
      "Adj: 7\tWeight: 0.25\n",
      "Adj: 9\tWeight: 0.25\n",
      "\n",
      "\n"
     ]
    }
   ],
   "source": [
    "from ddpg.train import train\n",
    "\n",
    "\n",
    "train()\n"
   ]
  },
  {
   "cell_type": "markdown",
   "metadata": {},
   "source": [
    "### PPO"
   ]
  },
  {
   "cell_type": "markdown",
   "metadata": {},
   "source": [
    "### Compete with Fault Node"
   ]
  },
  {
   "cell_type": "markdown",
   "metadata": {},
   "source": [
    "## Modified Approach"
   ]
  },
  {
   "cell_type": "code",
   "execution_count": null,
   "metadata": {},
   "outputs": [],
   "source": [
    "%load_ext autoreload\n",
    "%autoreload 2\n",
    "from q_new.train import q_consensus\n",
    "\n",
    "\n",
    "# new method\n",
    "q_consensus()"
   ]
  }
 ],
 "metadata": {
  "kernelspec": {
   "display_name": "Python 3",
   "language": "python",
   "name": "python3"
  },
  "language_info": {
   "codemirror_mode": {
    "name": "ipython",
    "version": 3
   },
   "file_extension": ".py",
   "mimetype": "text/x-python",
   "name": "python",
   "nbconvert_exporter": "python",
   "pygments_lexer": "ipython3",
   "version": "3.7.7"
  }
 },
 "nbformat": 4,
 "nbformat_minor": 4
}
